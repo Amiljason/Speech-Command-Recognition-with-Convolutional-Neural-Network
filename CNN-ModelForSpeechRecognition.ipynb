{
  "cells": [
    {
      "cell_type": "code",
      "execution_count": 7,
      "metadata": {
        "colab": {
          "base_uri": "https://localhost:8080/"
        },
        "id": "G8vOONthL1ia",
        "outputId": "9b506dc3-899a-494d-b4cf-d9a9b259991b"
      },
      "outputs": [
        {
          "name": "stdout",
          "output_type": "stream",
          "text": [
            "GPU Available: []\n",
            "Requirement already satisfied: librosa in c:\\users\\arnav\\appdata\\local\\programs\\python\\python311\\lib\\site-packages (0.11.0)\n",
            "Collecting tensorflow\n",
            "  Using cached tensorflow-2.20.0-cp311-cp311-win_amd64.whl.metadata (4.6 kB)\n",
            "Requirement already satisfied: matplotlib in c:\\users\\arnav\\appdata\\local\\programs\\python\\python311\\lib\\site-packages (3.9.2)\n",
            "Requirement already satisfied: seaborn in c:\\users\\arnav\\appdata\\local\\programs\\python\\python311\\lib\\site-packages (0.13.2)\n",
            "Requirement already satisfied: scikit-learn in c:\\users\\arnav\\appdata\\local\\programs\\python\\python311\\lib\\site-packages (1.5.2)\n",
            "Requirement already satisfied: audioread>=2.1.9 in c:\\users\\arnav\\appdata\\local\\programs\\python\\python311\\lib\\site-packages (from librosa) (3.0.1)\n",
            "Requirement already satisfied: numba>=0.51.0 in c:\\users\\arnav\\appdata\\local\\programs\\python\\python311\\lib\\site-packages (from librosa) (0.62.1)\n",
            "Requirement already satisfied: numpy>=1.22.3 in c:\\users\\arnav\\appdata\\local\\programs\\python\\python311\\lib\\site-packages (from librosa) (1.26.4)\n",
            "Requirement already satisfied: scipy>=1.6.0 in c:\\users\\arnav\\appdata\\local\\programs\\python\\python311\\lib\\site-packages (from librosa) (1.14.1)\n",
            "Requirement already satisfied: joblib>=1.0 in c:\\users\\arnav\\appdata\\local\\programs\\python\\python311\\lib\\site-packages (from librosa) (1.4.2)\n",
            "Requirement already satisfied: decorator>=4.3.0 in c:\\users\\arnav\\appdata\\local\\programs\\python\\python311\\lib\\site-packages (from librosa) (5.1.1)\n",
            "Requirement already satisfied: soundfile>=0.12.1 in c:\\users\\arnav\\appdata\\local\\programs\\python\\python311\\lib\\site-packages (from librosa) (0.13.1)\n",
            "Requirement already satisfied: pooch>=1.1 in c:\\users\\arnav\\appdata\\local\\programs\\python\\python311\\lib\\site-packages (from librosa) (1.8.2)\n",
            "Requirement already satisfied: soxr>=0.3.2 in c:\\users\\arnav\\appdata\\local\\programs\\python\\python311\\lib\\site-packages (from librosa) (1.0.0)\n",
            "Requirement already satisfied: typing_extensions>=4.1.1 in c:\\users\\arnav\\appdata\\local\\programs\\python\\python311\\lib\\site-packages (from librosa) (4.12.2)\n",
            "Requirement already satisfied: lazy_loader>=0.1 in c:\\users\\arnav\\appdata\\local\\programs\\python\\python311\\lib\\site-packages (from librosa) (0.4)\n",
            "Requirement already satisfied: msgpack>=1.0 in c:\\users\\arnav\\appdata\\local\\programs\\python\\python311\\lib\\site-packages (from librosa) (1.1.2)\n",
            "Requirement already satisfied: absl-py>=1.0.0 in c:\\users\\arnav\\appdata\\local\\programs\\python\\python311\\lib\\site-packages (from tensorflow) (2.3.1)\n",
            "Requirement already satisfied: astunparse>=1.6.0 in c:\\users\\arnav\\appdata\\local\\programs\\python\\python311\\lib\\site-packages (from tensorflow) (1.6.3)\n",
            "Requirement already satisfied: flatbuffers>=24.3.25 in c:\\users\\arnav\\appdata\\local\\programs\\python\\python311\\lib\\site-packages (from tensorflow) (25.9.23)\n",
            "Requirement already satisfied: gast!=0.5.0,!=0.5.1,!=0.5.2,>=0.2.1 in c:\\users\\arnav\\appdata\\local\\programs\\python\\python311\\lib\\site-packages (from tensorflow) (0.6.0)\n",
            "Requirement already satisfied: google_pasta>=0.1.1 in c:\\users\\arnav\\appdata\\local\\programs\\python\\python311\\lib\\site-packages (from tensorflow) (0.2.0)\n",
            "Requirement already satisfied: libclang>=13.0.0 in c:\\users\\arnav\\appdata\\local\\programs\\python\\python311\\lib\\site-packages (from tensorflow) (18.1.1)\n",
            "Requirement already satisfied: opt_einsum>=2.3.2 in c:\\users\\arnav\\appdata\\local\\programs\\python\\python311\\lib\\site-packages (from tensorflow) (3.4.0)\n",
            "Requirement already satisfied: packaging in c:\\users\\arnav\\appdata\\local\\programs\\python\\python311\\lib\\site-packages (from tensorflow) (23.1)\n",
            "Requirement already satisfied: protobuf>=5.28.0 in c:\\users\\arnav\\appdata\\local\\programs\\python\\python311\\lib\\site-packages (from tensorflow) (6.32.1)\n",
            "Requirement already satisfied: requests<3,>=2.21.0 in c:\\users\\arnav\\appdata\\local\\programs\\python\\python311\\lib\\site-packages (from tensorflow) (2.31.0)\n",
            "Requirement already satisfied: setuptools in c:\\users\\arnav\\appdata\\local\\programs\\python\\python311\\lib\\site-packages (from tensorflow) (65.5.0)\n",
            "Requirement already satisfied: six>=1.12.0 in c:\\users\\arnav\\appdata\\local\\programs\\python\\python311\\lib\\site-packages (from tensorflow) (1.16.0)\n",
            "Requirement already satisfied: termcolor>=1.1.0 in c:\\users\\arnav\\appdata\\local\\programs\\python\\python311\\lib\\site-packages (from tensorflow) (3.1.0)\n",
            "Requirement already satisfied: wrapt>=1.11.0 in c:\\users\\arnav\\appdata\\local\\programs\\python\\python311\\lib\\site-packages (from tensorflow) (1.17.3)\n",
            "Requirement already satisfied: grpcio<2.0,>=1.24.3 in c:\\users\\arnav\\appdata\\local\\programs\\python\\python311\\lib\\site-packages (from tensorflow) (1.75.1)\n",
            "Requirement already satisfied: tensorboard~=2.20.0 in c:\\users\\arnav\\appdata\\local\\programs\\python\\python311\\lib\\site-packages (from tensorflow) (2.20.0)\n",
            "Requirement already satisfied: keras>=3.10.0 in c:\\users\\arnav\\appdata\\local\\programs\\python\\python311\\lib\\site-packages (from tensorflow) (3.11.3)\n",
            "Requirement already satisfied: h5py>=3.11.0 in c:\\users\\arnav\\appdata\\local\\programs\\python\\python311\\lib\\site-packages (from tensorflow) (3.14.0)\n",
            "Requirement already satisfied: ml_dtypes<1.0.0,>=0.5.1 in c:\\users\\arnav\\appdata\\local\\programs\\python\\python311\\lib\\site-packages (from tensorflow) (0.5.3)\n",
            "Requirement already satisfied: charset-normalizer<4,>=2 in c:\\users\\arnav\\appdata\\local\\programs\\python\\python311\\lib\\site-packages (from requests<3,>=2.21.0->tensorflow) (3.2.0)\n",
            "Requirement already satisfied: idna<4,>=2.5 in c:\\users\\arnav\\appdata\\local\\programs\\python\\python311\\lib\\site-packages (from requests<3,>=2.21.0->tensorflow) (3.4)\n",
            "Requirement already satisfied: urllib3<3,>=1.21.1 in c:\\users\\arnav\\appdata\\local\\programs\\python\\python311\\lib\\site-packages (from requests<3,>=2.21.0->tensorflow) (2.0.4)\n",
            "Requirement already satisfied: certifi>=2017.4.17 in c:\\users\\arnav\\appdata\\local\\programs\\python\\python311\\lib\\site-packages (from requests<3,>=2.21.0->tensorflow) (2025.8.3)\n",
            "Requirement already satisfied: markdown>=2.6.8 in c:\\users\\arnav\\appdata\\local\\programs\\python\\python311\\lib\\site-packages (from tensorboard~=2.20.0->tensorflow) (3.9)\n",
            "Requirement already satisfied: pillow in c:\\users\\arnav\\appdata\\local\\programs\\python\\python311\\lib\\site-packages (from tensorboard~=2.20.0->tensorflow) (11.0.0)\n",
            "Requirement already satisfied: tensorboard-data-server<0.8.0,>=0.7.0 in c:\\users\\arnav\\appdata\\local\\programs\\python\\python311\\lib\\site-packages (from tensorboard~=2.20.0->tensorflow) (0.7.2)\n",
            "Requirement already satisfied: werkzeug>=1.0.1 in c:\\users\\arnav\\appdata\\local\\programs\\python\\python311\\lib\\site-packages (from tensorboard~=2.20.0->tensorflow) (3.1.3)\n",
            "Requirement already satisfied: contourpy>=1.0.1 in c:\\users\\arnav\\appdata\\local\\programs\\python\\python311\\lib\\site-packages (from matplotlib) (1.3.0)\n",
            "Requirement already satisfied: cycler>=0.10 in c:\\users\\arnav\\appdata\\local\\programs\\python\\python311\\lib\\site-packages (from matplotlib) (0.12.1)\n",
            "Requirement already satisfied: fonttools>=4.22.0 in c:\\users\\arnav\\appdata\\local\\programs\\python\\python311\\lib\\site-packages (from matplotlib) (4.54.1)\n",
            "Requirement already satisfied: kiwisolver>=1.3.1 in c:\\users\\arnav\\appdata\\local\\programs\\python\\python311\\lib\\site-packages (from matplotlib) (1.4.7)\n",
            "Requirement already satisfied: pyparsing>=2.3.1 in c:\\users\\arnav\\appdata\\local\\programs\\python\\python311\\lib\\site-packages (from matplotlib) (3.2.0)\n",
            "Requirement already satisfied: python-dateutil>=2.7 in c:\\users\\arnav\\appdata\\local\\programs\\python\\python311\\lib\\site-packages (from matplotlib) (2.8.2)\n",
            "Requirement already satisfied: pandas>=1.2 in c:\\users\\arnav\\appdata\\local\\programs\\python\\python311\\lib\\site-packages (from seaborn) (2.2.3)\n",
            "Requirement already satisfied: threadpoolctl>=3.1.0 in c:\\users\\arnav\\appdata\\local\\programs\\python\\python311\\lib\\site-packages (from scikit-learn) (3.5.0)\n",
            "Requirement already satisfied: wheel<1.0,>=0.23.0 in c:\\users\\arnav\\appdata\\local\\programs\\python\\python311\\lib\\site-packages (from astunparse>=1.6.0->tensorflow) (0.45.1)\n",
            "Requirement already satisfied: rich in c:\\users\\arnav\\appdata\\local\\programs\\python\\python311\\lib\\site-packages (from keras>=3.10.0->tensorflow) (14.2.0)\n",
            "Requirement already satisfied: namex in c:\\users\\arnav\\appdata\\local\\programs\\python\\python311\\lib\\site-packages (from keras>=3.10.0->tensorflow) (0.1.0)\n",
            "Requirement already satisfied: optree in c:\\users\\arnav\\appdata\\local\\programs\\python\\python311\\lib\\site-packages (from keras>=3.10.0->tensorflow) (0.17.0)\n",
            "Requirement already satisfied: llvmlite<0.46,>=0.45.0dev0 in c:\\users\\arnav\\appdata\\local\\programs\\python\\python311\\lib\\site-packages (from numba>=0.51.0->librosa) (0.45.1)\n",
            "Requirement already satisfied: pytz>=2020.1 in c:\\users\\arnav\\appdata\\local\\programs\\python\\python311\\lib\\site-packages (from pandas>=1.2->seaborn) (2024.2)\n",
            "Requirement already satisfied: tzdata>=2022.7 in c:\\users\\arnav\\appdata\\local\\programs\\python\\python311\\lib\\site-packages (from pandas>=1.2->seaborn) (2023.3)\n",
            "Requirement already satisfied: platformdirs>=2.5.0 in c:\\users\\arnav\\appdata\\local\\programs\\python\\python311\\lib\\site-packages (from pooch>=1.1->librosa) (3.10.0)\n",
            "Requirement already satisfied: cffi>=1.0 in c:\\users\\arnav\\appdata\\local\\programs\\python\\python311\\lib\\site-packages (from soundfile>=0.12.1->librosa) (1.15.1)\n",
            "Requirement already satisfied: pycparser in c:\\users\\arnav\\appdata\\local\\programs\\python\\python311\\lib\\site-packages (from cffi>=1.0->soundfile>=0.12.1->librosa) (2.21)\n",
            "Requirement already satisfied: MarkupSafe>=2.1.1 in c:\\users\\arnav\\appdata\\local\\programs\\python\\python311\\lib\\site-packages (from werkzeug>=1.0.1->tensorboard~=2.20.0->tensorflow) (2.1.3)\n",
            "Requirement already satisfied: markdown-it-py>=2.2.0 in c:\\users\\arnav\\appdata\\local\\programs\\python\\python311\\lib\\site-packages (from rich->keras>=3.10.0->tensorflow) (4.0.0)\n",
            "Requirement already satisfied: pygments<3.0.0,>=2.13.0 in c:\\users\\arnav\\appdata\\local\\programs\\python\\python311\\lib\\site-packages (from rich->keras>=3.10.0->tensorflow) (2.16.1)\n",
            "Requirement already satisfied: mdurl~=0.1 in c:\\users\\arnav\\appdata\\local\\programs\\python\\python311\\lib\\site-packages (from markdown-it-py>=2.2.0->rich->keras>=3.10.0->tensorflow) (0.1.2)\n",
            "Using cached tensorflow-2.20.0-cp311-cp311-win_amd64.whl (331.8 MB)\n",
            "Installing collected packages: tensorflow\n",
            "Environment setup complete!\n"
          ]
        },
        {
          "name": "stderr",
          "output_type": "stream",
          "text": [
            "ERROR: Could not install packages due to an OSError: [WinError 5] Access is denied: 'C:\\\\Users\\\\arnav\\\\AppData\\\\Local\\\\Programs\\\\Python\\\\Python311\\\\Lib\\\\site-packages\\\\tensorflow\\\\compiler\\\\mlir\\\\lite\\\\python\\\\_pywrap_converter_api.pyd'\n",
            "Consider using the `--user` option or check the permissions.\n",
            "\n"
          ]
        }
      ],
      "source": [
        "# STEP 1: ENVIRONMENT SETUP\n",
        "\n",
        "import tensorflow as tf\n",
        "print(\"GPU Available:\", tf.config.list_physical_devices('GPU'))\n",
        "\n",
        "!pip install librosa tensorflow matplotlib seaborn scikit-learn\n",
        "\n",
        "import os\n",
        "import pathlib\n",
        "import matplotlib.pyplot as plt\n",
        "import numpy as np\n",
        "import seaborn as sns\n",
        "import librosa\n",
        "from tensorflow.keras import layers, models\n",
        "from sklearn.model_selection import train_test_split\n",
        "from sklearn.preprocessing import LabelEncoder\n",
        "import warnings\n",
        "warnings.filterwarnings('ignore')\n",
        "\n",
        "# Set random seeds for reproducibility\n",
        "seed = 42\n",
        "tf.random.set_seed(seed)\n",
        "np.random.seed(seed)\n",
        "\n",
        "print(\"Environment setup complete!\")\n"
      ]
    },
    {
      "cell_type": "code",
      "execution_count": 8,
      "metadata": {
        "colab": {
          "base_uri": "https://localhost:8080/"
        },
        "id": "JispeGndMEMp",
        "outputId": "cb090856-b244-4db5-f718-4c52904bb15f"
      },
      "outputs": [
        {
          "name": "stdout",
          "output_type": "stream",
          "text": [
            "✅ Dataset already exists!\n",
            "\n",
            "Available Commands: ['down' 'go' 'left' 'no' 'right' 'stop' 'up' 'yes']\n",
            "down: 1000 files\n",
            "go: 1000 files\n",
            "left: 1000 files\n",
            "no: 1000 files\n",
            "right: 1000 files\n",
            "stop: 1000 files\n",
            "up: 1000 files\n",
            "yes: 1000 files\n"
          ]
        }
      ],
      "source": [
        "\n",
        "# Local dataset directory (auto-create if missing)\n",
        "DATASET_PATH = os.path.join(os.getcwd(), \"data\", \"mini_speech_commands\")\n",
        "data_dir = pathlib.Path(DATASET_PATH)\n",
        "\n",
        "# Download if not present\n",
        "if not data_dir.exists():\n",
        "    zip_path = tf.keras.utils.get_file(\n",
        "        'mini_speech_commands.zip',\n",
        "        origin=\"http://storage.googleapis.com/download.tensorflow.org/data/mini_speech_commands.zip\",\n",
        "        extract=True,\n",
        "        cache_dir='.',  # Current directory\n",
        "        cache_subdir='data'\n",
        "    )\n",
        "    print(\"✅ Dataset downloaded and extracted!\")\n",
        "\n",
        "else:\n",
        "    print(\"✅ Dataset already exists!\")\n",
        "\n",
        "# List available commands\n",
        "commands = np.array(tf.io.gfile.listdir(str(data_dir)))\n",
        "commands = commands[(commands != 'README.md') & (commands != '.DS_Store')]\n",
        "print('\\nAvailable Commands:', commands)\n",
        "\n",
        "# Show file counts\n",
        "for command in commands:\n",
        "    command_dir = data_dir / command\n",
        "    if command_dir.is_dir():\n",
        "        num_files = len(list(command_dir.glob('*.wav')))\n",
        "        print(f'{command}: {num_files} files')\n"
      ]
    },
    {
      "cell_type": "code",
      "execution_count": 9,
      "metadata": {
        "colab": {
          "base_uri": "https://localhost:8080/"
        },
        "id": "H9ncHNWAMoz9",
        "outputId": "2535491d-599c-44a0-badc-fc6ade4a6756"
      },
      "outputs": [
        {
          "name": "stdout",
          "output_type": "stream",
          "text": [
            "Starting data preprocessing...\n",
            "Processing commands: ['down', 'go', 'left', 'no', 'right', 'stop', 'up', 'yes']\n",
            "Processing down: 1000 files\n",
            "Processing go: 1000 files\n",
            "Processing left: 1000 files\n",
            "Processing no: 1000 files\n",
            "Processing right: 1000 files\n",
            "Processing stop: 1000 files\n",
            "Processing up: 1000 files\n",
            "Processing yes: 1000 files\n",
            "Dataset shape: (4000, 98, 40)\n",
            "Labels shape: (4000,)\n",
            "Training set: (2800, 98, 40)\n",
            "Validation set: (400, 98, 40)\n",
            "Test set: (800, 98, 40)\n",
            "Class names: ['down', 'go', 'left', 'no', 'right', 'stop', 'up', 'yes']\n"
          ]
        }
      ],
      "source": [
        "# STEP 3: DATA PREPROCESSING AND FEATURE EXTRACTION\n",
        "\n",
        "def extract_mfcc_features(file_path, n_mfcc=40, max_len=98):\n",
        "    try:\n",
        "        audio, sr = librosa.load(file_path, sr=16000, duration=1.0)\n",
        "        mfccs = librosa.feature.mfcc(y=audio, sr=sr, n_mfcc=n_mfcc, hop_length=160, n_fft=512)\n",
        "        if mfccs.shape[1] < max_len:\n",
        "            mfccs = np.pad(mfccs, ((0, 0), (0, max_len - mfccs.shape[1])), mode='constant')\n",
        "        else:\n",
        "            mfccs = mfccs[:, :max_len]\n",
        "        return mfccs.T\n",
        "    except Exception as e:\n",
        "        print(f\"Error processing {file_path}: {e}\")\n",
        "        return None\n",
        "\n",
        "def prepare_dataset(data_dir, test_size=0.2, validation_size=0.1):\n",
        "    features, labels, file_paths = [], [], []\n",
        "    commands = [d for d in os.listdir(data_dir) if os.path.isdir(os.path.join(data_dir, d))]\n",
        "    print(f\"Processing commands: {commands}\")\n",
        "    for label, command in enumerate(commands):\n",
        "        command_dir = os.path.join(data_dir, command)\n",
        "        audio_files = [f for f in os.listdir(command_dir) if f.endswith('.wav')]\n",
        "        print(f\"Processing {command}: {len(audio_files)} files\")\n",
        "        for audio_file in audio_files[:500]:\n",
        "            file_path = os.path.join(command_dir, audio_file)\n",
        "            mfcc_features = extract_mfcc_features(file_path)\n",
        "            if mfcc_features is not None:\n",
        "                features.append(mfcc_features)\n",
        "                labels.append(label)\n",
        "                file_paths.append(file_path)\n",
        "    features = np.array(features)\n",
        "    labels = np.array(labels)\n",
        "    print(f\"Dataset shape: {features.shape}\")\n",
        "    print(f\"Labels shape: {labels.shape}\")\n",
        "    X_temp, X_test, y_temp, y_test = train_test_split(features, labels, test_size=test_size, random_state=42, stratify=labels)\n",
        "    X_train, X_val, y_train, y_val = train_test_split(X_temp, y_temp, test_size=validation_size/(1-test_size), random_state=42, stratify=y_temp)\n",
        "    return (X_train, X_val, X_test, y_train, y_val, y_test), commands\n",
        "\n",
        "print(\"Starting data preprocessing...\")\n",
        "(X_train, X_val, X_test, y_train, y_val, y_test), class_names = prepare_dataset(data_dir)\n",
        "print(f\"Training set: {X_train.shape}\")\n",
        "print(f\"Validation set: {X_val.shape}\")\n",
        "print(f\"Test set: {X_test.shape}\")\n",
        "print(f\"Class names: {class_names}\")\n"
      ]
    },
    {
      "cell_type": "code",
      "execution_count": 10,
      "metadata": {
        "colab": {
          "base_uri": "https://localhost:8080/",
          "height": 498
        },
        "id": "k5M4FGfjMvSG",
        "outputId": "24a678bb-0cbe-4e80-d073-b7d6a2457bd8"
      },
      "outputs": [
        {
          "data": {
            "text/html": [
              "<pre style=\"white-space:pre;overflow-x:auto;line-height:normal;font-family:Menlo,'DejaVu Sans Mono',consolas,'Courier New',monospace\"><span style=\"font-weight: bold\">Model: \"sequential\"</span>\n",
              "</pre>\n"
            ],
            "text/plain": [
              "\u001b[1mModel: \"sequential\"\u001b[0m\n"
            ]
          },
          "metadata": {},
          "output_type": "display_data"
        },
        {
          "data": {
            "text/html": [
              "<pre style=\"white-space:pre;overflow-x:auto;line-height:normal;font-family:Menlo,'DejaVu Sans Mono',consolas,'Courier New',monospace\">┏━━━━━━━━━━━━━━━━━━━━━━━━━━━━━━━━━┳━━━━━━━━━━━━━━━━━━━━━━━━┳━━━━━━━━━━━━━━━┓\n",
              "┃<span style=\"font-weight: bold\"> Layer (type)                    </span>┃<span style=\"font-weight: bold\"> Output Shape           </span>┃<span style=\"font-weight: bold\">       Param # </span>┃\n",
              "┡━━━━━━━━━━━━━━━━━━━━━━━━━━━━━━━━━╇━━━━━━━━━━━━━━━━━━━━━━━━╇━━━━━━━━━━━━━━━┩\n",
              "│ reshape (<span style=\"color: #0087ff; text-decoration-color: #0087ff\">Reshape</span>)               │ (<span style=\"color: #00d7ff; text-decoration-color: #00d7ff\">None</span>, <span style=\"color: #00af00; text-decoration-color: #00af00\">98</span>, <span style=\"color: #00af00; text-decoration-color: #00af00\">40</span>, <span style=\"color: #00af00; text-decoration-color: #00af00\">1</span>)      │             <span style=\"color: #00af00; text-decoration-color: #00af00\">0</span> │\n",
              "├─────────────────────────────────┼────────────────────────┼───────────────┤\n",
              "│ conv1 (<span style=\"color: #0087ff; text-decoration-color: #0087ff\">Conv2D</span>)                  │ (<span style=\"color: #00d7ff; text-decoration-color: #00d7ff\">None</span>, <span style=\"color: #00af00; text-decoration-color: #00af00\">79</span>, <span style=\"color: #00af00; text-decoration-color: #00af00\">11</span>, <span style=\"color: #00af00; text-decoration-color: #00af00\">64</span>)     │        <span style=\"color: #00af00; text-decoration-color: #00af00\">10,304</span> │\n",
              "├─────────────────────────────────┼────────────────────────┼───────────────┤\n",
              "│ pool1 (<span style=\"color: #0087ff; text-decoration-color: #0087ff\">MaxPooling2D</span>)            │ (<span style=\"color: #00d7ff; text-decoration-color: #00d7ff\">None</span>, <span style=\"color: #00af00; text-decoration-color: #00af00\">39</span>, <span style=\"color: #00af00; text-decoration-color: #00af00\">5</span>, <span style=\"color: #00af00; text-decoration-color: #00af00\">64</span>)      │             <span style=\"color: #00af00; text-decoration-color: #00af00\">0</span> │\n",
              "├─────────────────────────────────┼────────────────────────┼───────────────┤\n",
              "│ dropout1 (<span style=\"color: #0087ff; text-decoration-color: #0087ff\">Dropout</span>)              │ (<span style=\"color: #00d7ff; text-decoration-color: #00d7ff\">None</span>, <span style=\"color: #00af00; text-decoration-color: #00af00\">39</span>, <span style=\"color: #00af00; text-decoration-color: #00af00\">5</span>, <span style=\"color: #00af00; text-decoration-color: #00af00\">64</span>)      │             <span style=\"color: #00af00; text-decoration-color: #00af00\">0</span> │\n",
              "├─────────────────────────────────┼────────────────────────┼───────────────┤\n",
              "│ conv2 (<span style=\"color: #0087ff; text-decoration-color: #0087ff\">Conv2D</span>)                  │ (<span style=\"color: #00d7ff; text-decoration-color: #00d7ff\">None</span>, <span style=\"color: #00af00; text-decoration-color: #00af00\">30</span>, <span style=\"color: #00af00; text-decoration-color: #00af00\">2</span>, <span style=\"color: #00af00; text-decoration-color: #00af00\">128</span>)     │       <span style=\"color: #00af00; text-decoration-color: #00af00\">327,808</span> │\n",
              "├─────────────────────────────────┼────────────────────────┼───────────────┤\n",
              "│ pool2 (<span style=\"color: #0087ff; text-decoration-color: #0087ff\">MaxPooling2D</span>)            │ (<span style=\"color: #00d7ff; text-decoration-color: #00d7ff\">None</span>, <span style=\"color: #00af00; text-decoration-color: #00af00\">15</span>, <span style=\"color: #00af00; text-decoration-color: #00af00\">1</span>, <span style=\"color: #00af00; text-decoration-color: #00af00\">128</span>)     │             <span style=\"color: #00af00; text-decoration-color: #00af00\">0</span> │\n",
              "├─────────────────────────────────┼────────────────────────┼───────────────┤\n",
              "│ dropout2 (<span style=\"color: #0087ff; text-decoration-color: #0087ff\">Dropout</span>)              │ (<span style=\"color: #00d7ff; text-decoration-color: #00d7ff\">None</span>, <span style=\"color: #00af00; text-decoration-color: #00af00\">15</span>, <span style=\"color: #00af00; text-decoration-color: #00af00\">1</span>, <span style=\"color: #00af00; text-decoration-color: #00af00\">128</span>)     │             <span style=\"color: #00af00; text-decoration-color: #00af00\">0</span> │\n",
              "├─────────────────────────────────┼────────────────────────┼───────────────┤\n",
              "│ flatten (<span style=\"color: #0087ff; text-decoration-color: #0087ff\">Flatten</span>)               │ (<span style=\"color: #00d7ff; text-decoration-color: #00d7ff\">None</span>, <span style=\"color: #00af00; text-decoration-color: #00af00\">1920</span>)           │             <span style=\"color: #00af00; text-decoration-color: #00af00\">0</span> │\n",
              "├─────────────────────────────────┼────────────────────────┼───────────────┤\n",
              "│ dense1 (<span style=\"color: #0087ff; text-decoration-color: #0087ff\">Dense</span>)                  │ (<span style=\"color: #00d7ff; text-decoration-color: #00d7ff\">None</span>, <span style=\"color: #00af00; text-decoration-color: #00af00\">128</span>)            │       <span style=\"color: #00af00; text-decoration-color: #00af00\">245,888</span> │\n",
              "├─────────────────────────────────┼────────────────────────┼───────────────┤\n",
              "│ dropout3 (<span style=\"color: #0087ff; text-decoration-color: #0087ff\">Dropout</span>)              │ (<span style=\"color: #00d7ff; text-decoration-color: #00d7ff\">None</span>, <span style=\"color: #00af00; text-decoration-color: #00af00\">128</span>)            │             <span style=\"color: #00af00; text-decoration-color: #00af00\">0</span> │\n",
              "├─────────────────────────────────┼────────────────────────┼───────────────┤\n",
              "│ output (<span style=\"color: #0087ff; text-decoration-color: #0087ff\">Dense</span>)                  │ (<span style=\"color: #00d7ff; text-decoration-color: #00d7ff\">None</span>, <span style=\"color: #00af00; text-decoration-color: #00af00\">8</span>)              │         <span style=\"color: #00af00; text-decoration-color: #00af00\">1,032</span> │\n",
              "└─────────────────────────────────┴────────────────────────┴───────────────┘\n",
              "</pre>\n"
            ],
            "text/plain": [
              "┏━━━━━━━━━━━━━━━━━━━━━━━━━━━━━━━━━┳━━━━━━━━━━━━━━━━━━━━━━━━┳━━━━━━━━━━━━━━━┓\n",
              "┃\u001b[1m \u001b[0m\u001b[1mLayer (type)                   \u001b[0m\u001b[1m \u001b[0m┃\u001b[1m \u001b[0m\u001b[1mOutput Shape          \u001b[0m\u001b[1m \u001b[0m┃\u001b[1m \u001b[0m\u001b[1m      Param #\u001b[0m\u001b[1m \u001b[0m┃\n",
              "┡━━━━━━━━━━━━━━━━━━━━━━━━━━━━━━━━━╇━━━━━━━━━━━━━━━━━━━━━━━━╇━━━━━━━━━━━━━━━┩\n",
              "│ reshape (\u001b[38;5;33mReshape\u001b[0m)               │ (\u001b[38;5;45mNone\u001b[0m, \u001b[38;5;34m98\u001b[0m, \u001b[38;5;34m40\u001b[0m, \u001b[38;5;34m1\u001b[0m)      │             \u001b[38;5;34m0\u001b[0m │\n",
              "├─────────────────────────────────┼────────────────────────┼───────────────┤\n",
              "│ conv1 (\u001b[38;5;33mConv2D\u001b[0m)                  │ (\u001b[38;5;45mNone\u001b[0m, \u001b[38;5;34m79\u001b[0m, \u001b[38;5;34m11\u001b[0m, \u001b[38;5;34m64\u001b[0m)     │        \u001b[38;5;34m10,304\u001b[0m │\n",
              "├─────────────────────────────────┼────────────────────────┼───────────────┤\n",
              "│ pool1 (\u001b[38;5;33mMaxPooling2D\u001b[0m)            │ (\u001b[38;5;45mNone\u001b[0m, \u001b[38;5;34m39\u001b[0m, \u001b[38;5;34m5\u001b[0m, \u001b[38;5;34m64\u001b[0m)      │             \u001b[38;5;34m0\u001b[0m │\n",
              "├─────────────────────────────────┼────────────────────────┼───────────────┤\n",
              "│ dropout1 (\u001b[38;5;33mDropout\u001b[0m)              │ (\u001b[38;5;45mNone\u001b[0m, \u001b[38;5;34m39\u001b[0m, \u001b[38;5;34m5\u001b[0m, \u001b[38;5;34m64\u001b[0m)      │             \u001b[38;5;34m0\u001b[0m │\n",
              "├─────────────────────────────────┼────────────────────────┼───────────────┤\n",
              "│ conv2 (\u001b[38;5;33mConv2D\u001b[0m)                  │ (\u001b[38;5;45mNone\u001b[0m, \u001b[38;5;34m30\u001b[0m, \u001b[38;5;34m2\u001b[0m, \u001b[38;5;34m128\u001b[0m)     │       \u001b[38;5;34m327,808\u001b[0m │\n",
              "├─────────────────────────────────┼────────────────────────┼───────────────┤\n",
              "│ pool2 (\u001b[38;5;33mMaxPooling2D\u001b[0m)            │ (\u001b[38;5;45mNone\u001b[0m, \u001b[38;5;34m15\u001b[0m, \u001b[38;5;34m1\u001b[0m, \u001b[38;5;34m128\u001b[0m)     │             \u001b[38;5;34m0\u001b[0m │\n",
              "├─────────────────────────────────┼────────────────────────┼───────────────┤\n",
              "│ dropout2 (\u001b[38;5;33mDropout\u001b[0m)              │ (\u001b[38;5;45mNone\u001b[0m, \u001b[38;5;34m15\u001b[0m, \u001b[38;5;34m1\u001b[0m, \u001b[38;5;34m128\u001b[0m)     │             \u001b[38;5;34m0\u001b[0m │\n",
              "├─────────────────────────────────┼────────────────────────┼───────────────┤\n",
              "│ flatten (\u001b[38;5;33mFlatten\u001b[0m)               │ (\u001b[38;5;45mNone\u001b[0m, \u001b[38;5;34m1920\u001b[0m)           │             \u001b[38;5;34m0\u001b[0m │\n",
              "├─────────────────────────────────┼────────────────────────┼───────────────┤\n",
              "│ dense1 (\u001b[38;5;33mDense\u001b[0m)                  │ (\u001b[38;5;45mNone\u001b[0m, \u001b[38;5;34m128\u001b[0m)            │       \u001b[38;5;34m245,888\u001b[0m │\n",
              "├─────────────────────────────────┼────────────────────────┼───────────────┤\n",
              "│ dropout3 (\u001b[38;5;33mDropout\u001b[0m)              │ (\u001b[38;5;45mNone\u001b[0m, \u001b[38;5;34m128\u001b[0m)            │             \u001b[38;5;34m0\u001b[0m │\n",
              "├─────────────────────────────────┼────────────────────────┼───────────────┤\n",
              "│ output (\u001b[38;5;33mDense\u001b[0m)                  │ (\u001b[38;5;45mNone\u001b[0m, \u001b[38;5;34m8\u001b[0m)              │         \u001b[38;5;34m1,032\u001b[0m │\n",
              "└─────────────────────────────────┴────────────────────────┴───────────────┘\n"
            ]
          },
          "metadata": {},
          "output_type": "display_data"
        },
        {
          "data": {
            "text/html": [
              "<pre style=\"white-space:pre;overflow-x:auto;line-height:normal;font-family:Menlo,'DejaVu Sans Mono',consolas,'Courier New',monospace\"><span style=\"font-weight: bold\"> Total params: </span><span style=\"color: #00af00; text-decoration-color: #00af00\">585,032</span> (2.23 MB)\n",
              "</pre>\n"
            ],
            "text/plain": [
              "\u001b[1m Total params: \u001b[0m\u001b[38;5;34m585,032\u001b[0m (2.23 MB)\n"
            ]
          },
          "metadata": {},
          "output_type": "display_data"
        },
        {
          "data": {
            "text/html": [
              "<pre style=\"white-space:pre;overflow-x:auto;line-height:normal;font-family:Menlo,'DejaVu Sans Mono',consolas,'Courier New',monospace\"><span style=\"font-weight: bold\"> Trainable params: </span><span style=\"color: #00af00; text-decoration-color: #00af00\">585,032</span> (2.23 MB)\n",
              "</pre>\n"
            ],
            "text/plain": [
              "\u001b[1m Trainable params: \u001b[0m\u001b[38;5;34m585,032\u001b[0m (2.23 MB)\n"
            ]
          },
          "metadata": {},
          "output_type": "display_data"
        },
        {
          "data": {
            "text/html": [
              "<pre style=\"white-space:pre;overflow-x:auto;line-height:normal;font-family:Menlo,'DejaVu Sans Mono',consolas,'Courier New',monospace\"><span style=\"font-weight: bold\"> Non-trainable params: </span><span style=\"color: #00af00; text-decoration-color: #00af00\">0</span> (0.00 B)\n",
              "</pre>\n"
            ],
            "text/plain": [
              "\u001b[1m Non-trainable params: \u001b[0m\u001b[38;5;34m0\u001b[0m (0.00 B)\n"
            ]
          },
          "metadata": {},
          "output_type": "display_data"
        },
        {
          "name": "stdout",
          "output_type": "stream",
          "text": [
            "CNN model architecture created.\n"
          ]
        }
      ],
      "source": [
        "# STEP 4: MODEL ARCHITECTURE DESIGN\n",
        "\n",
        "def create_cnn_model(input_shape, num_classes):\n",
        "    model = models.Sequential([\n",
        "        layers.Reshape((*input_shape, 1), input_shape=input_shape),\n",
        "        layers.Conv2D(64, (20, 8), strides=(1, 3), activation='relu', name='conv1'),\n",
        "        layers.MaxPooling2D((2, 2), name='pool1'),\n",
        "        layers.Dropout(0.25, name='dropout1'),\n",
        "        layers.Conv2D(128, (10, 4), strides=(1, 1), activation='relu', name='conv2'),\n",
        "        layers.MaxPooling2D((2, 2), name='pool2'),\n",
        "        layers.Dropout(0.25, name='dropout2'),\n",
        "        layers.Flatten(name='flatten'),\n",
        "        layers.Dense(128, activation='relu', name='dense1'),\n",
        "        layers.Dropout(0.5, name='dropout3'),\n",
        "        layers.Dense(num_classes, activation='softmax', name='output')\n",
        "    ])\n",
        "    return model\n",
        "\n",
        "input_shape = (98, 40)\n",
        "num_classes = len(class_names)\n",
        "\n",
        "cnn_model = create_cnn_model(input_shape, num_classes)\n",
        "cnn_model.summary()\n",
        "print(\"CNN model architecture created.\")\n"
      ]
    },
    {
      "cell_type": "code",
      "execution_count": 11,
      "metadata": {
        "colab": {
          "base_uri": "https://localhost:8080/"
        },
        "id": "ZtMPNB74MvVF",
        "outputId": "a6c76c16-8d33-4507-b865-9d1466d8f215"
      },
      "outputs": [
        {
          "name": "stdout",
          "output_type": "stream",
          "text": [
            "Epoch 1/30\n"
          ]
        },
        {
          "name": "stderr",
          "output_type": "stream",
          "text": [
            "WARNING:absl:You are saving your model as an HDF5 file via `model.save()` or `keras.saving.save_model(model)`. This file format is considered legacy. We recommend using instead the native Keras format, e.g. `model.save('my_model.keras')` or `keras.saving.save_model(model, 'my_model.keras')`. \n"
          ]
        },
        {
          "name": "stdout",
          "output_type": "stream",
          "text": [
            "44/44 - 9s - 202ms/step - accuracy: 0.1368 - loss: 3.9496 - val_accuracy: 0.1425 - val_loss: 2.0720 - learning_rate: 0.0010\n",
            "Epoch 2/30\n",
            "44/44 - 6s - 130ms/step - accuracy: 0.1389 - loss: 2.0789 - val_accuracy: 0.1125 - val_loss: 2.0786 - learning_rate: 0.0010\n",
            "Epoch 3/30\n"
          ]
        },
        {
          "name": "stderr",
          "output_type": "stream",
          "text": [
            "WARNING:absl:You are saving your model as an HDF5 file via `model.save()` or `keras.saving.save_model(model)`. This file format is considered legacy. We recommend using instead the native Keras format, e.g. `model.save('my_model.keras')` or `keras.saving.save_model(model, 'my_model.keras')`. \n"
          ]
        },
        {
          "name": "stdout",
          "output_type": "stream",
          "text": [
            "44/44 - 6s - 136ms/step - accuracy: 0.1282 - loss: 2.0766 - val_accuracy: 0.1500 - val_loss: 2.0696 - learning_rate: 0.0010\n",
            "Epoch 4/30\n"
          ]
        },
        {
          "name": "stderr",
          "output_type": "stream",
          "text": [
            "WARNING:absl:You are saving your model as an HDF5 file via `model.save()` or `keras.saving.save_model(model)`. This file format is considered legacy. We recommend using instead the native Keras format, e.g. `model.save('my_model.keras')` or `keras.saving.save_model(model, 'my_model.keras')`. \n"
          ]
        },
        {
          "name": "stdout",
          "output_type": "stream",
          "text": [
            "44/44 - 6s - 132ms/step - accuracy: 0.1475 - loss: 2.0674 - val_accuracy: 0.1875 - val_loss: 2.0412 - learning_rate: 0.0010\n",
            "Epoch 5/30\n"
          ]
        },
        {
          "name": "stderr",
          "output_type": "stream",
          "text": [
            "WARNING:absl:You are saving your model as an HDF5 file via `model.save()` or `keras.saving.save_model(model)`. This file format is considered legacy. We recommend using instead the native Keras format, e.g. `model.save('my_model.keras')` or `keras.saving.save_model(model, 'my_model.keras')`. \n"
          ]
        },
        {
          "name": "stdout",
          "output_type": "stream",
          "text": [
            "44/44 - 5s - 122ms/step - accuracy: 0.1621 - loss: 2.0144 - val_accuracy: 0.2575 - val_loss: 1.9299 - learning_rate: 0.0010\n",
            "Epoch 6/30\n"
          ]
        },
        {
          "name": "stderr",
          "output_type": "stream",
          "text": [
            "WARNING:absl:You are saving your model as an HDF5 file via `model.save()` or `keras.saving.save_model(model)`. This file format is considered legacy. We recommend using instead the native Keras format, e.g. `model.save('my_model.keras')` or `keras.saving.save_model(model, 'my_model.keras')`. \n"
          ]
        },
        {
          "name": "stdout",
          "output_type": "stream",
          "text": [
            "44/44 - 5s - 123ms/step - accuracy: 0.2029 - loss: 1.9707 - val_accuracy: 0.2750 - val_loss: 1.8384 - learning_rate: 0.0010\n",
            "Epoch 7/30\n"
          ]
        },
        {
          "name": "stderr",
          "output_type": "stream",
          "text": [
            "WARNING:absl:You are saving your model as an HDF5 file via `model.save()` or `keras.saving.save_model(model)`. This file format is considered legacy. We recommend using instead the native Keras format, e.g. `model.save('my_model.keras')` or `keras.saving.save_model(model, 'my_model.keras')`. \n"
          ]
        },
        {
          "name": "stdout",
          "output_type": "stream",
          "text": [
            "44/44 - 6s - 128ms/step - accuracy: 0.2629 - loss: 1.9072 - val_accuracy: 0.3425 - val_loss: 1.7398 - learning_rate: 0.0010\n",
            "Epoch 8/30\n"
          ]
        },
        {
          "name": "stderr",
          "output_type": "stream",
          "text": [
            "WARNING:absl:You are saving your model as an HDF5 file via `model.save()` or `keras.saving.save_model(model)`. This file format is considered legacy. We recommend using instead the native Keras format, e.g. `model.save('my_model.keras')` or `keras.saving.save_model(model, 'my_model.keras')`. \n"
          ]
        },
        {
          "name": "stdout",
          "output_type": "stream",
          "text": [
            "44/44 - 6s - 133ms/step - accuracy: 0.2857 - loss: 1.8568 - val_accuracy: 0.3750 - val_loss: 1.6700 - learning_rate: 0.0010\n",
            "Epoch 9/30\n"
          ]
        },
        {
          "name": "stderr",
          "output_type": "stream",
          "text": [
            "WARNING:absl:You are saving your model as an HDF5 file via `model.save()` or `keras.saving.save_model(model)`. This file format is considered legacy. We recommend using instead the native Keras format, e.g. `model.save('my_model.keras')` or `keras.saving.save_model(model, 'my_model.keras')`. \n"
          ]
        },
        {
          "name": "stdout",
          "output_type": "stream",
          "text": [
            "44/44 - 6s - 133ms/step - accuracy: 0.3146 - loss: 1.7507 - val_accuracy: 0.3950 - val_loss: 1.5161 - learning_rate: 0.0010\n",
            "Epoch 10/30\n"
          ]
        },
        {
          "name": "stderr",
          "output_type": "stream",
          "text": [
            "WARNING:absl:You are saving your model as an HDF5 file via `model.save()` or `keras.saving.save_model(model)`. This file format is considered legacy. We recommend using instead the native Keras format, e.g. `model.save('my_model.keras')` or `keras.saving.save_model(model, 'my_model.keras')`. \n"
          ]
        },
        {
          "name": "stdout",
          "output_type": "stream",
          "text": [
            "44/44 - 6s - 126ms/step - accuracy: 0.3879 - loss: 1.5926 - val_accuracy: 0.4975 - val_loss: 1.3895 - learning_rate: 0.0010\n",
            "Epoch 11/30\n"
          ]
        },
        {
          "name": "stderr",
          "output_type": "stream",
          "text": [
            "WARNING:absl:You are saving your model as an HDF5 file via `model.save()` or `keras.saving.save_model(model)`. This file format is considered legacy. We recommend using instead the native Keras format, e.g. `model.save('my_model.keras')` or `keras.saving.save_model(model, 'my_model.keras')`. \n"
          ]
        },
        {
          "name": "stdout",
          "output_type": "stream",
          "text": [
            "44/44 - 5s - 121ms/step - accuracy: 0.4339 - loss: 1.5034 - val_accuracy: 0.5425 - val_loss: 1.2159 - learning_rate: 0.0010\n",
            "Epoch 12/30\n"
          ]
        },
        {
          "name": "stderr",
          "output_type": "stream",
          "text": [
            "WARNING:absl:You are saving your model as an HDF5 file via `model.save()` or `keras.saving.save_model(model)`. This file format is considered legacy. We recommend using instead the native Keras format, e.g. `model.save('my_model.keras')` or `keras.saving.save_model(model, 'my_model.keras')`. \n"
          ]
        },
        {
          "name": "stdout",
          "output_type": "stream",
          "text": [
            "44/44 - 5s - 121ms/step - accuracy: 0.4714 - loss: 1.3945 - val_accuracy: 0.6175 - val_loss: 1.0468 - learning_rate: 0.0010\n",
            "Epoch 13/30\n"
          ]
        },
        {
          "name": "stderr",
          "output_type": "stream",
          "text": [
            "WARNING:absl:You are saving your model as an HDF5 file via `model.save()` or `keras.saving.save_model(model)`. This file format is considered legacy. We recommend using instead the native Keras format, e.g. `model.save('my_model.keras')` or `keras.saving.save_model(model, 'my_model.keras')`. \n"
          ]
        },
        {
          "name": "stdout",
          "output_type": "stream",
          "text": [
            "44/44 - 6s - 127ms/step - accuracy: 0.5611 - loss: 1.1813 - val_accuracy: 0.6525 - val_loss: 0.9289 - learning_rate: 0.0010\n",
            "Epoch 14/30\n"
          ]
        },
        {
          "name": "stderr",
          "output_type": "stream",
          "text": [
            "WARNING:absl:You are saving your model as an HDF5 file via `model.save()` or `keras.saving.save_model(model)`. This file format is considered legacy. We recommend using instead the native Keras format, e.g. `model.save('my_model.keras')` or `keras.saving.save_model(model, 'my_model.keras')`. \n"
          ]
        },
        {
          "name": "stdout",
          "output_type": "stream",
          "text": [
            "44/44 - 6s - 132ms/step - accuracy: 0.6121 - loss: 1.0280 - val_accuracy: 0.6625 - val_loss: 0.8585 - learning_rate: 0.0010\n",
            "Epoch 15/30\n"
          ]
        },
        {
          "name": "stderr",
          "output_type": "stream",
          "text": [
            "WARNING:absl:You are saving your model as an HDF5 file via `model.save()` or `keras.saving.save_model(model)`. This file format is considered legacy. We recommend using instead the native Keras format, e.g. `model.save('my_model.keras')` or `keras.saving.save_model(model, 'my_model.keras')`. \n"
          ]
        },
        {
          "name": "stdout",
          "output_type": "stream",
          "text": [
            "44/44 - 6s - 132ms/step - accuracy: 0.6321 - loss: 1.0182 - val_accuracy: 0.7450 - val_loss: 0.7189 - learning_rate: 0.0010\n",
            "Epoch 16/30\n",
            "44/44 - 5s - 117ms/step - accuracy: 0.6668 - loss: 0.8934 - val_accuracy: 0.7450 - val_loss: 0.7910 - learning_rate: 0.0010\n",
            "Epoch 17/30\n",
            "44/44 - 5s - 121ms/step - accuracy: 0.7171 - loss: 0.7796 - val_accuracy: 0.7400 - val_loss: 0.7477 - learning_rate: 0.0010\n",
            "Epoch 18/30\n"
          ]
        },
        {
          "name": "stderr",
          "output_type": "stream",
          "text": [
            "WARNING:absl:You are saving your model as an HDF5 file via `model.save()` or `keras.saving.save_model(model)`. This file format is considered legacy. We recommend using instead the native Keras format, e.g. `model.save('my_model.keras')` or `keras.saving.save_model(model, 'my_model.keras')`. \n"
          ]
        },
        {
          "name": "stdout",
          "output_type": "stream",
          "text": [
            "44/44 - 6s - 126ms/step - accuracy: 0.7246 - loss: 0.7617 - val_accuracy: 0.7475 - val_loss: 0.7526 - learning_rate: 0.0010\n",
            "Epoch 19/30\n"
          ]
        },
        {
          "name": "stderr",
          "output_type": "stream",
          "text": [
            "WARNING:absl:You are saving your model as an HDF5 file via `model.save()` or `keras.saving.save_model(model)`. This file format is considered legacy. We recommend using instead the native Keras format, e.g. `model.save('my_model.keras')` or `keras.saving.save_model(model, 'my_model.keras')`. \n"
          ]
        },
        {
          "name": "stdout",
          "output_type": "stream",
          "text": [
            "44/44 - 6s - 131ms/step - accuracy: 0.7257 - loss: 0.7620 - val_accuracy: 0.7775 - val_loss: 0.6392 - learning_rate: 0.0010\n",
            "Epoch 20/30\n",
            "44/44 - 6s - 131ms/step - accuracy: 0.7450 - loss: 0.7254 - val_accuracy: 0.7775 - val_loss: 0.6818 - learning_rate: 0.0010\n",
            "Epoch 21/30\n"
          ]
        },
        {
          "name": "stderr",
          "output_type": "stream",
          "text": [
            "WARNING:absl:You are saving your model as an HDF5 file via `model.save()` or `keras.saving.save_model(model)`. This file format is considered legacy. We recommend using instead the native Keras format, e.g. `model.save('my_model.keras')` or `keras.saving.save_model(model, 'my_model.keras')`. \n"
          ]
        },
        {
          "name": "stdout",
          "output_type": "stream",
          "text": [
            "44/44 - 5s - 121ms/step - accuracy: 0.7732 - loss: 0.6263 - val_accuracy: 0.7875 - val_loss: 0.5812 - learning_rate: 0.0010\n",
            "Epoch 22/30\n"
          ]
        },
        {
          "name": "stderr",
          "output_type": "stream",
          "text": [
            "WARNING:absl:You are saving your model as an HDF5 file via `model.save()` or `keras.saving.save_model(model)`. This file format is considered legacy. We recommend using instead the native Keras format, e.g. `model.save('my_model.keras')` or `keras.saving.save_model(model, 'my_model.keras')`. \n"
          ]
        },
        {
          "name": "stdout",
          "output_type": "stream",
          "text": [
            "44/44 - 5s - 119ms/step - accuracy: 0.7850 - loss: 0.6277 - val_accuracy: 0.7975 - val_loss: 0.5634 - learning_rate: 0.0010\n",
            "Epoch 23/30\n"
          ]
        },
        {
          "name": "stderr",
          "output_type": "stream",
          "text": [
            "WARNING:absl:You are saving your model as an HDF5 file via `model.save()` or `keras.saving.save_model(model)`. This file format is considered legacy. We recommend using instead the native Keras format, e.g. `model.save('my_model.keras')` or `keras.saving.save_model(model, 'my_model.keras')`. \n"
          ]
        },
        {
          "name": "stdout",
          "output_type": "stream",
          "text": [
            "44/44 - 5s - 120ms/step - accuracy: 0.8043 - loss: 0.5681 - val_accuracy: 0.8150 - val_loss: 0.5804 - learning_rate: 0.0010\n",
            "Epoch 24/30\n",
            "44/44 - 5s - 122ms/step - accuracy: 0.8157 - loss: 0.5513 - val_accuracy: 0.8050 - val_loss: 0.6493 - learning_rate: 0.0010\n",
            "Epoch 25/30\n"
          ]
        },
        {
          "name": "stderr",
          "output_type": "stream",
          "text": [
            "WARNING:absl:You are saving your model as an HDF5 file via `model.save()` or `keras.saving.save_model(model)`. This file format is considered legacy. We recommend using instead the native Keras format, e.g. `model.save('my_model.keras')` or `keras.saving.save_model(model, 'my_model.keras')`. \n"
          ]
        },
        {
          "name": "stdout",
          "output_type": "stream",
          "text": [
            "44/44 - 6s - 127ms/step - accuracy: 0.8068 - loss: 0.5419 - val_accuracy: 0.8450 - val_loss: 0.4713 - learning_rate: 0.0010\n",
            "Epoch 26/30\n",
            "44/44 - 5s - 123ms/step - accuracy: 0.8261 - loss: 0.5225 - val_accuracy: 0.8225 - val_loss: 0.5250 - learning_rate: 0.0010\n",
            "Epoch 27/30\n",
            "44/44 - 5s - 117ms/step - accuracy: 0.8275 - loss: 0.4924 - val_accuracy: 0.8050 - val_loss: 0.5857 - learning_rate: 0.0010\n",
            "Epoch 28/30\n",
            "44/44 - 6s - 130ms/step - accuracy: 0.8282 - loss: 0.4904 - val_accuracy: 0.8375 - val_loss: 0.5465 - learning_rate: 0.0010\n",
            "Epoch 29/30\n",
            "44/44 - 6s - 132ms/step - accuracy: 0.8329 - loss: 0.4970 - val_accuracy: 0.8350 - val_loss: 0.5058 - learning_rate: 0.0010\n",
            "Epoch 30/30\n",
            "44/44 - 5s - 123ms/step - accuracy: 0.8346 - loss: 0.4940 - val_accuracy: 0.8325 - val_loss: 0.5551 - learning_rate: 0.0010\n",
            "Training complete. Final epoch metrics:\n",
            "Train accuracy: 0.8346428275108337\n",
            "Validation accuracy: 0.8324999809265137\n"
          ]
        }
      ],
      "source": [
        "# STEP 5: MODEL TRAINING\n",
        "\n",
        "def train_model(model, X_train, y_train, X_val, y_val, epochs=30, batch_size=64):\n",
        "    callbacks = [\n",
        "        tf.keras.callbacks.EarlyStopping(monitor='val_loss', patience=10, restore_best_weights=True),\n",
        "        tf.keras.callbacks.ReduceLROnPlateau(monitor='val_loss', factor=0.5, patience=5, min_lr=1e-7),\n",
        "        tf.keras.callbacks.ModelCheckpoint('best_model.h5', save_best_only=True, monitor='val_accuracy')\n",
        "    ]\n",
        "    model.compile(optimizer=tf.keras.optimizers.Adam(learning_rate=0.001),\n",
        "                  loss='sparse_categorical_crossentropy',\n",
        "                  metrics=['accuracy'])\n",
        "    history = model.fit(X_train, y_train,\n",
        "                        validation_data=(X_val, y_val),\n",
        "                        epochs=epochs, batch_size=batch_size,\n",
        "                        callbacks=callbacks, verbose=2)\n",
        "    print(\"Training complete. Final epoch metrics:\")\n",
        "    print(\"Train accuracy:\", history.history['accuracy'][-1])\n",
        "    print(\"Validation accuracy:\", history.history['val_accuracy'][-1])\n",
        "    return history\n",
        "\n",
        "history = train_model(cnn_model, X_train, y_train, X_val, y_val)\n"
      ]
    },
    {
      "cell_type": "code",
      "execution_count": 12,
      "metadata": {
        "colab": {
          "base_uri": "https://localhost:8080/",
          "height": 1000
        },
        "id": "2gi-aBXUMvYH",
        "outputId": "4b39cd4a-363a-475d-abb7-cba58ebd8593"
      },
      "outputs": [
        {
          "name": "stdout",
          "output_type": "stream",
          "text": [
            "Evaluating the model...\n",
            "\u001b[1m25/25\u001b[0m \u001b[32m━━━━━━━━━━━━━━━━━━━━\u001b[0m\u001b[37m\u001b[0m \u001b[1m1s\u001b[0m 21ms/step\n",
            "Test Accuracy: 0.84375\n",
            "Classification Report:\n",
            "              precision    recall  f1-score   support\n",
            "\n",
            "        down       0.86      0.81      0.84       100\n",
            "          go       0.79      0.69      0.74       100\n",
            "        left       0.84      0.86      0.85       100\n",
            "          no       0.75      0.79      0.77       100\n",
            "       right       0.94      0.93      0.93       100\n",
            "        stop       0.91      0.88      0.89       100\n",
            "          up       0.78      0.88      0.83       100\n",
            "         yes       0.88      0.91      0.90       100\n",
            "\n",
            "    accuracy                           0.84       800\n",
            "   macro avg       0.84      0.84      0.84       800\n",
            "weighted avg       0.84      0.84      0.84       800\n",
            "\n"
          ]
        },
        {
          "data": {
            "image/png": "[encoded data removed]",
            "text/plain": [
              "<Figure size 1000x800 with 2 Axes>"
            ]
          },
          "metadata": {},
          "output_type": "display_data"
        }
      ],
      "source": [
        "# STEP 6: MODEL EVALUATION\n",
        "\n",
        "from sklearn.metrics import classification_report, confusion_matrix\n",
        "\n",
        "def evaluate_model(model, X_test, y_test, class_names):\n",
        "    predictions = model.predict(X_test)\n",
        "    predicted_classes = np.argmax(predictions, axis=1)\n",
        "    test_accuracy = np.mean(predicted_classes == y_test)\n",
        "    print(\"Test Accuracy:\", test_accuracy)\n",
        "    print(\"Classification Report:\")\n",
        "    print(classification_report(y_test, predicted_classes, target_names=class_names))\n",
        "    cm = confusion_matrix(y_test, predicted_classes)\n",
        "    plt.figure(figsize=(10, 8))\n",
        "    sns.heatmap(cm, annot=True, fmt='d', cmap='Blues',\n",
        "                xticklabels=class_names, yticklabels=class_names)\n",
        "    plt.title('Confusion Matrix')\n",
        "    plt.xlabel('Predicted')\n",
        "    plt.ylabel('Actual')\n",
        "    plt.show()\n",
        "    return test_accuracy\n",
        "\n",
        "print(\"Evaluating the model...\")\n",
        "test_accuracy = evaluate_model(cnn_model, X_test, y_test, class_names)\n"
      ]
    },
    {
      "cell_type": "code",
      "execution_count": 13,
      "metadata": {
        "colab": {
          "base_uri": "https://localhost:8080/"
        },
        "id": "i3t5lzroMvay",
        "outputId": "52c6e17a-49ef-47b3-bcfd-bd1d6485c655"
      },
      "outputs": [
        {
          "name": "stderr",
          "output_type": "stream",
          "text": [
            "WARNING:absl:You are saving your model as an HDF5 file via `model.save()` or `keras.saving.save_model(model)`. This file format is considered legacy. We recommend using instead the native Keras format, e.g. `model.save('my_model.keras')` or `keras.saving.save_model(model, 'my_model.keras')`. \n"
          ]
        },
        {
          "name": "stdout",
          "output_type": "stream",
          "text": [
            "Model saved as speech_command_cnn_model.h5\n",
            "Running prediction on: c:\\Users\\arnav\\OneDrive\\Desktop\\data\\mini_speech_commands\\down\\004ae714_nohash_0.wav\n",
            "\u001b[1m1/1\u001b[0m \u001b[32m━━━━━━━━━━━━━━━━━━━━\u001b[0m\u001b[37m\u001b[0m \u001b[1m0s\u001b[0m 107ms/step\n",
            "Predicted command: down\n",
            "Confidence: 0.5360\n"
          ]
        },
        {
          "data": {
            "text/plain": [
              "('down', 0.53603756)"
            ]
          },
          "execution_count": 13,
          "metadata": {},
          "output_type": "execute_result"
        }
      ],
      "source": [
        "# STEP 7: DEPLOYMENT AND SAMPLE INFERENCE\n",
        "\n",
        "cnn_model.save('speech_command_cnn_model.h5')\n",
        "print(\"Model saved as speech_command_cnn_model.h5\")\n",
        "\n",
        "def predict_audio_command(model, audio_file_path, class_names):\n",
        "    features = extract_mfcc_features(audio_file_path)\n",
        "    if features is not None:\n",
        "        features = np.expand_dims(features, axis=0)\n",
        "        predictions = model.predict(features)\n",
        "        predicted_class_idx = np.argmax(predictions[0])\n",
        "        confidence = predictions[0][predicted_class_idx]\n",
        "        predicted_class = class_names[predicted_class_idx]\n",
        "        print(f\"Predicted command: {predicted_class}\")\n",
        "        print(f\"Confidence: {confidence:.4f}\")\n",
        "        return predicted_class, confidence\n",
        "    else:\n",
        "        print(\"Error: Could not process audio file\")\n",
        "        return None, None\n",
        "\n",
        "# Test prediction on a sample file\n",
        "sample_test_file = list((data_dir / class_names[0]).glob('*.wav'))[0]\n",
        "print(f\"Running prediction on: {sample_test_file}\")\n",
        "predict_audio_command(cnn_model, str(sample_test_file), class_names)\n"
      ]
    },
    {
      "cell_type": "code",
      "execution_count": 15,
      "metadata": {
        "id": "leTjxTMsNNGX"
      },
      "outputs": [
        {
          "name": "stderr",
          "output_type": "stream",
          "text": [
            "WARNING:absl:You are saving your model as an HDF5 file via `model.save()` or `keras.saving.save_model(model)`. This file format is considered legacy. We recommend using instead the native Keras format, e.g. `model.save('my_model.keras')` or `keras.saving.save_model(model, 'my_model.keras')`. \n"
          ]
        },
        {
          "name": "stdout",
          "output_type": "stream",
          "text": [
            "✓ Model saved as 'speech_command_cnn_model.h5'\n",
            "\n",
            "============================================================\n",
            "TESTING PREDICTIONS ON SAMPLE FILES\n",
            "============================================================\n",
            "\n",
            "--- Test 1: Single Sample ---\n",
            "File: 004ae714_nohash_0.wav\n",
            "🎯 Predicted command: down\n",
            "📊 Confidence: 53.60%\n",
            "\n",
            "--- Test 2: One Sample Per Class ---\n",
            "\n",
            "📁 Testing 'down':\n",
            "   File: 1d919a90_nohash_0.wav\n",
            "🎯 Predicted command: down\n",
            "📊 Confidence: 86.83%\n",
            "\n",
            "📁 Testing 'go':\n",
            "   File: 721f767c_nohash_0.wav\n",
            "🎯 Predicted command: go\n",
            "📊 Confidence: 84.23%\n",
            "\n",
            "📁 Testing 'left':\n",
            "   File: dea820ce_nohash_2.wav\n",
            "🎯 Predicted command: left\n",
            "📊 Confidence: 68.42%\n",
            "\n",
            "📁 Testing 'no':\n",
            "   File: 46a153d8_nohash_4.wav\n",
            "🎯 Predicted command: no\n",
            "📊 Confidence: 88.79%\n",
            "\n",
            "📁 Testing 'right':\n",
            "   File: 21832144_nohash_3.wav\n",
            "🎯 Predicted command: right\n",
            "📊 Confidence: 99.55%\n",
            "\n",
            "📁 Testing 'stop':\n",
            "   File: 1816b768_nohash_1.wav\n",
            "🎯 Predicted command: stop\n",
            "📊 Confidence: 99.99%\n",
            "\n",
            "📁 Testing 'up':\n",
            "   File: ba59cab3_nohash_0.wav\n",
            "🎯 Predicted command: up\n",
            "📊 Confidence: 78.90%\n",
            "\n",
            "📁 Testing 'yes':\n",
            "   File: 03cf93b1_nohash_0.wav\n",
            "🎯 Predicted command: yes\n",
            "📊 Confidence: 99.96%\n",
            "\n",
            "============================================================\n",
            "BATCH PREDICTION SUMMARY\n",
            "============================================================\n",
            "🎯 Predicted command: down\n",
            "📊 Confidence: 84.90%\n",
            "🎯 Predicted command: down\n",
            "📊 Confidence: 51.41%\n",
            "🎯 Predicted command: no\n",
            "📊 Confidence: 60.44%\n",
            "🎯 Predicted command: down\n",
            "📊 Confidence: 57.69%\n",
            "🎯 Predicted command: down\n",
            "📊 Confidence: 71.79%\n",
            "🎯 Predicted command: go\n",
            "📊 Confidence: 71.01%\n",
            "🎯 Predicted command: go\n",
            "📊 Confidence: 83.29%\n",
            "🎯 Predicted command: go\n",
            "📊 Confidence: 86.98%\n",
            "🎯 Predicted command: go\n",
            "📊 Confidence: 38.23%\n",
            "🎯 Predicted command: go\n",
            "📊 Confidence: 52.57%\n",
            "🎯 Predicted command: left\n",
            "📊 Confidence: 99.90%\n",
            "🎯 Predicted command: left\n",
            "📊 Confidence: 100.00%\n",
            "🎯 Predicted command: left\n",
            "📊 Confidence: 100.00%\n",
            "🎯 Predicted command: left\n",
            "📊 Confidence: 86.49%\n",
            "🎯 Predicted command: left\n",
            "📊 Confidence: 100.00%\n",
            "🎯 Predicted command: no\n",
            "📊 Confidence: 98.48%\n",
            "🎯 Predicted command: no\n",
            "📊 Confidence: 84.39%\n",
            "🎯 Predicted command: no\n",
            "📊 Confidence: 51.59%\n",
            "🎯 Predicted command: no\n",
            "📊 Confidence: 76.79%\n",
            "🎯 Predicted command: go\n",
            "📊 Confidence: 52.36%\n",
            "🎯 Predicted command: right\n",
            "📊 Confidence: 100.00%\n",
            "🎯 Predicted command: right\n",
            "📊 Confidence: 100.00%\n",
            "🎯 Predicted command: right\n",
            "📊 Confidence: 97.48%\n",
            "🎯 Predicted command: right\n",
            "📊 Confidence: 100.00%\n",
            "🎯 Predicted command: right\n",
            "📊 Confidence: 99.99%\n",
            "🎯 Predicted command: up\n",
            "📊 Confidence: 36.97%\n",
            "🎯 Predicted command: stop\n",
            "📊 Confidence: 99.97%\n",
            "🎯 Predicted command: stop\n",
            "📊 Confidence: 100.00%\n",
            "🎯 Predicted command: stop\n",
            "📊 Confidence: 100.00%\n",
            "🎯 Predicted command: stop\n",
            "📊 Confidence: 86.50%\n",
            "🎯 Predicted command: up\n",
            "📊 Confidence: 42.24%\n",
            "🎯 Predicted command: up\n",
            "📊 Confidence: 81.95%\n",
            "🎯 Predicted command: up\n",
            "📊 Confidence: 99.24%\n",
            "🎯 Predicted command: up\n",
            "📊 Confidence: 84.18%\n",
            "🎯 Predicted command: stop\n",
            "📊 Confidence: 51.90%\n",
            "🎯 Predicted command: yes\n",
            "📊 Confidence: 99.88%\n",
            "🎯 Predicted command: yes\n",
            "📊 Confidence: 100.00%\n",
            "🎯 Predicted command: yes\n",
            "📊 Confidence: 99.99%\n",
            "🎯 Predicted command: yes\n",
            "📊 Confidence: 100.00%\n",
            "🎯 Predicted command: stop\n",
            "📊 Confidence: 63.37%\n",
            "\n",
            "✅ Batch Test Accuracy: 35/40 (87.50%)\n",
            "\n",
            "============================================================\n",
            "DEPLOYMENT READY!\n",
            "============================================================\n",
            "To use the model in production:\n",
            "1. Load model: model = tf.keras.models.load_model('speech_command_cnn_model.h5')\n",
            "2. Call: predict_audio_command(model, 'path/to/audio.wav', class_names)\n"
          ]
        }
      ],
      "source": [
        "# def predict_audio_command(model, audio_file_path, class_names):\n",
        "#     '''Predict speech command from audio file'''\n",
        "#     features = extract_mfcc_features(audio_file_path)\n",
        "\n",
        "#     if features is not None:\n",
        "#         features = np.expand_dims(features, axis=0)\n",
        "#         predictions = model.predict(features)\n",
        "#         predicted_class_idx = np.argmax(predictions[0])\n",
        "#         confidence = predictions[0][predicted_class_idx]\n",
        "#         predicted_class = class_names[predicted_class_idx]\n",
        "\n",
        "#         print(f\"Predicted command: {predicted_class}\")\n",
        "#         print(f\"Confidence: {confidence:.4f}\")\n",
        "\n",
        "#         return predicted_class, confidence\n",
        "\n",
        "#     return None, None\n",
        "\n",
        "# STEP 7: MODEL DEPLOYMENT AND INFERENCE\n",
        "\n",
        "# Save the trained model\n",
        "cnn_model.save('speech_command_cnn_model.h5')\n",
        "print(\"✓ Model saved as 'speech_command_cnn_model.h5'\\n\")\n",
        "\n",
        "def predict_audio_command(model, audio_file_path, class_names):\n",
        "    \"\"\"\n",
        "    Predict speech command from an audio file\n",
        "    \n",
        "    Args:\n",
        "        model: Trained Keras model\n",
        "        audio_file_path (str): Path to the audio file\n",
        "        class_names (list): List of command class names\n",
        "        \n",
        "    Returns:\n",
        "        tuple: (predicted_class, confidence) or (None, None) if error\n",
        "    \"\"\"\n",
        "    # Extract MFCC features from audio file\n",
        "    features = extract_mfcc_features(audio_file_path)\n",
        "    \n",
        "    if features is None:\n",
        "        print(\"❌ Error: Could not process audio file\")\n",
        "        return None, None\n",
        "    \n",
        "    # Reshape for model input (add batch dimension)\n",
        "    features = np.expand_dims(features, axis=0)\n",
        "    \n",
        "    # Make prediction\n",
        "    predictions = model.predict(features, verbose=0)\n",
        "    predicted_class_idx = np.argmax(predictions[0])\n",
        "    confidence = predictions[0][predicted_class_idx]\n",
        "    predicted_class = class_names[predicted_class_idx]\n",
        "    \n",
        "    # Display results\n",
        "    print(f\"🎯 Predicted command: {predicted_class}\")\n",
        "    print(f\"📊 Confidence: {confidence:.2%}\")\n",
        "    \n",
        "    return predicted_class, confidence\n",
        "\n",
        "# ========================================\n",
        "# TEST PREDICTIONS ON SAMPLE FILES\n",
        "# ========================================\n",
        "\n",
        "print(\"=\"*60)\n",
        "print(\"TESTING PREDICTIONS ON SAMPLE FILES\")\n",
        "print(\"=\"*60)\n",
        "\n",
        "# Test 1: Single sample from first class\n",
        "print(\"\\n--- Test 1: Single Sample ---\")\n",
        "sample_test_file = list((data_dir / class_names[0]).glob('*.wav'))[0]\n",
        "print(f\"File: {sample_test_file.name}\")\n",
        "predict_audio_command(cnn_model, str(sample_test_file), class_names)\n",
        "\n",
        "# Test 2: Random sample from each class\n",
        "print(\"\\n--- Test 2: One Sample Per Class ---\")\n",
        "np.random.seed(42)\n",
        "for class_name in class_names:\n",
        "    audio_files = list((data_dir / class_name).glob('*.wav'))\n",
        "    if audio_files:\n",
        "        sample_file = np.random.choice(audio_files)\n",
        "        print(f\"\\n📁 Testing '{class_name}':\")\n",
        "        print(f\"   File: {sample_file.name}\")\n",
        "        predict_audio_command(cnn_model, str(sample_file), class_names)\n",
        "\n",
        "# Test 3: Prediction on multiple samples with summary\n",
        "print(\"\\n\" + \"=\"*60)\n",
        "print(\"BATCH PREDICTION SUMMARY\")\n",
        "print(\"=\"*60)\n",
        "\n",
        "correct_predictions = 0\n",
        "total_predictions = 0\n",
        "\n",
        "for class_name in class_names:\n",
        "    audio_files = list((data_dir / class_name).glob('*.wav'))\n",
        "    # Test 5 random samples per class\n",
        "    test_samples = np.random.choice(audio_files, min(5, len(audio_files)), replace=False)\n",
        "    \n",
        "    for sample_file in test_samples:\n",
        "        predicted, conf = predict_audio_command(cnn_model, str(sample_file), class_names)\n",
        "        if predicted == class_name:\n",
        "            correct_predictions += 1\n",
        "        total_predictions += 1\n",
        "\n",
        "accuracy = (correct_predictions / total_predictions) * 100\n",
        "print(f\"\\n✅ Batch Test Accuracy: {correct_predictions}/{total_predictions} ({accuracy:.2f}%)\")\n",
        "\n",
        "print(\"\\n\" + \"=\"*60)\n",
        "print(\"DEPLOYMENT READY!\")\n",
        "print(\"=\"*60)\n",
        "print(\"To use the model in production:\")\n",
        "print(\"1. Load model: model = tf.keras.models.load_model('speech_command_cnn_model.h5')\")\n",
        "print(\"2. Call: predict_audio_command(model, 'path/to/audio.wav', class_names)\")\n"
      ]
    },
    {
      "cell_type": "code",
      "execution_count": 16,
      "metadata": {
        "id": "fyQl5qKnMvdM"
      },
      "outputs": [
        {
          "name": "stdout",
          "output_type": "stream",
          "text": [
            "✓ Model saved as 'speech_command_cnn_model.keras'\n",
            "\n",
            "============================================================\n",
            "TESTING PREDICTIONS ON SAMPLE FILES\n",
            "============================================================\n",
            "\n",
            "--- Test 1: Single Sample ---\n",
            "File: 004ae714_nohash_0.wav\n",
            "🎯 Predicted: down | Confidence: 53.60%\n",
            "\n",
            "--- Test 2: One Sample Per Class ---\n",
            "✓ True: down   | Predicted: down   | Confidence: 86.83%\n",
            "✓ True: go     | Predicted: go     | Confidence: 84.23%\n",
            "✓ True: left   | Predicted: left   | Confidence: 68.42%\n",
            "✓ True: no     | Predicted: no     | Confidence: 88.79%\n",
            "✓ True: right  | Predicted: right  | Confidence: 99.55%\n",
            "✓ True: stop   | Predicted: stop   | Confidence: 99.99%\n",
            "✓ True: up     | Predicted: up     | Confidence: 78.90%\n",
            "✓ True: yes    | Predicted: yes    | Confidence: 99.96%\n",
            "\n",
            "--- Test 3: Batch Prediction Summary ---\n",
            "  down  : 4/5 correct (80%)\n",
            "  go    : 4/5 correct (80%)\n",
            "  left  : 5/5 correct (100%)\n",
            "  no    : 4/5 correct (80%)\n",
            "  right : 5/5 correct (100%)\n",
            "  stop  : 4/5 correct (80%)\n",
            "  up    : 4/5 correct (80%)\n",
            "  yes   : 4/5 correct (80%)\n",
            "\n",
            "✅ Overall Batch Accuracy: 34/40 (85.00%)\n",
            "\n",
            "============================================================\n",
            "DEPLOYMENT READY!\n",
            "============================================================\n",
            "To use the model in production:\n",
            "  1. Load: model = tf.keras.models.load_model('speech_command_cnn_model.keras')\n",
            "  2. Use:  predict_audio_command(model, 'audio.wav', class_names)\n",
            "============================================================\n"
          ]
        }
      ],
      "source": [
        "# STEP 7: MODEL DEPLOYMENT AND INFERENCE\n",
        "\n",
        "# Save the trained model\n",
        "cnn_model.save('speech_command_cnn_model.keras')  # Use new Keras format\n",
        "print(\"✓ Model saved as 'speech_command_cnn_model.keras'\\n\")\n",
        "\n",
        "def predict_audio_command(model, audio_file_path, class_names):\n",
        "    \"\"\"\n",
        "    Predict speech command from an audio file\n",
        "    \n",
        "    Args:\n",
        "        model: Trained Keras model\n",
        "        audio_file_path (str): Path to the audio file\n",
        "        class_names (list): List of command class names\n",
        "        \n",
        "    Returns:\n",
        "        tuple: (predicted_class, confidence) or (None, None) if error\n",
        "    \"\"\"\n",
        "    features = extract_mfcc_features(audio_file_path)\n",
        "    \n",
        "    if features is None:\n",
        "        print(\"❌ Error: Could not process audio file\")\n",
        "        return None, None\n",
        "    \n",
        "    features = np.expand_dims(features, axis=0)\n",
        "    predictions = model.predict(features, verbose=0)\n",
        "    predicted_class_idx = np.argmax(predictions[0])\n",
        "    confidence = predictions[0][predicted_class_idx]\n",
        "    predicted_class = class_names[predicted_class_idx]\n",
        "    \n",
        "    return predicted_class, confidence\n",
        "\n",
        "# ========================================\n",
        "# TEST PREDICTIONS\n",
        "# ========================================\n",
        "\n",
        "print(\"=\"*60)\n",
        "print(\"TESTING PREDICTIONS ON SAMPLE FILES\")\n",
        "print(\"=\"*60)\n",
        "\n",
        "# Test 1: Single sample\n",
        "print(\"\\n--- Test 1: Single Sample ---\")\n",
        "sample_test_file = list((data_dir / class_names[0]).glob('*.wav'))[0]\n",
        "print(f\"File: {sample_test_file.name}\")\n",
        "pred, conf = predict_audio_command(cnn_model, str(sample_test_file), class_names)\n",
        "print(f\"🎯 Predicted: {pred} | Confidence: {conf:.2%}\")\n",
        "\n",
        "# Test 2: One sample per class (COMPACT OUTPUT)\n",
        "print(\"\\n--- Test 2: One Sample Per Class ---\")\n",
        "np.random.seed(42)\n",
        "results = []\n",
        "for class_name in class_names:\n",
        "    audio_files = list((data_dir / class_name).glob('*.wav'))\n",
        "    if audio_files:\n",
        "        sample_file = np.random.choice(audio_files)\n",
        "        pred, conf = predict_audio_command(cnn_model, str(sample_file), class_names)\n",
        "        status = \"✓\" if pred == class_name else \"✗\"\n",
        "        results.append((class_name, pred, conf, status))\n",
        "        print(f\"{status} True: {class_name:6} | Predicted: {pred:6} | Confidence: {conf:.2%}\")\n",
        "\n",
        "# Test 3: Batch accuracy\n",
        "print(\"\\n--- Test 3: Batch Prediction Summary ---\")\n",
        "correct = 0\n",
        "total = 0\n",
        "np.random.seed(42)\n",
        "\n",
        "for class_name in class_names:\n",
        "    audio_files = list((data_dir / class_name).glob('*.wav'))\n",
        "    test_samples = np.random.choice(audio_files, min(5, len(audio_files)), replace=False)\n",
        "    \n",
        "    class_correct = 0\n",
        "    for sample_file in test_samples:\n",
        "        predicted, conf = predict_audio_command(cnn_model, str(sample_file), class_names)\n",
        "        if predicted == class_name:\n",
        "            correct += 1\n",
        "            class_correct += 1\n",
        "        total += 1\n",
        "    \n",
        "    class_acc = (class_correct / len(test_samples)) * 100\n",
        "    print(f\"  {class_name:6}: {class_correct}/{len(test_samples)} correct ({class_acc:.0f}%)\")\n",
        "\n",
        "accuracy = (correct / total) * 100\n",
        "print(f\"\\n✅ Overall Batch Accuracy: {correct}/{total} ({accuracy:.2f}%)\")\n",
        "\n",
        "# Deployment instructions\n",
        "print(\"\\n\" + \"=\"*60)\n",
        "print(\"DEPLOYMENT READY!\")\n",
        "print(\"=\"*60)\n",
        "print(\"To use the model in production:\")\n",
        "print(\"  1. Load: model = tf.keras.models.load_model('speech_command_cnn_model.keras')\")\n",
        "print(\"  2. Use:  predict_audio_command(model, 'audio.wav', class_names)\")\n",
        "print(\"=\"*60)"
      ]
    },
    {
      "cell_type": "code",
      "execution_count": null,
      "metadata": {
        "id": "G8T3pEjSMvfw"
      },
      "outputs": [],
      "source": [
        "project_folder/\n",
        "│\n",
        "├── speech_command_cnn_model.keras    # 🎯 The trained model\n",
        "├── predict_audio_command.py          # 🔧 Inference function\n",
        "├── extract_mfcc_features.py          # 🎵 Audio preprocessing\n",
        "├── requirements.txt                  # 📦 Dependencies\n",
        "├── README.md                         # 📖 Documentation\n",
        "├── demo.py                           # 🎮 Example usage\n",
        "├── test_samples/                     # 🎤 Sample audio files\n",
        "│   ├── yes.wav\n",
        "│   ├── no.wav\n",
        "│   └── ...\n",
        "└── model_performance/                # 📊 Results\n",
        "    ├── confusion_matrix.png\n",
        "    ├── accuracy_plot.png\n",
        "    └── classification_report.txt"
      ]
    },
    {
      "cell_type": "code",
      "execution_count": null,
      "metadata": {
        "id": "aXjNn1nGMviW"
      },
      "outputs": [],
      "source": []
    },
    {
      "cell_type": "code",
      "execution_count": null,
      "metadata": {
        "id": "rVCIDfRMMvk_"
      },
      "outputs": [],
      "source": []
    },
    {
      "cell_type": "code",
      "execution_count": null,
      "metadata": {
        "id": "XScbGlY5Mvno"
      },
      "outputs": [],
      "source": []
    },
    {
      "cell_type": "code",
      "execution_count": null,
      "metadata": {
        "id": "Dk-cvKToMvqU"
      },
      "outputs": [],
      "source": []
    },
    {
      "cell_type": "code",
      "execution_count": null,
      "metadata": {
        "id": "lxeLmAqUMvsz"
      },
      "outputs": [],
      "source": []
    },
    {
      "cell_type": "code",
      "execution_count": null,
      "metadata": {
        "id": "GO7Mq9MwMvvm"
      },
      "outputs": [],
      "source": []
    }
  ],
  "metadata": {
    "colab": {
      "provenance": []
    },
    "kernelspec": {
      "display_name": "Python 3",
      "name": "python3"
    },
    "language_info": {
      "codemirror_mode": {
        "name": "ipython",
        "version": 3
      },
      "file_extension": ".py",
      "mimetype": "text/x-python",
      "name": "python",
      "nbconvert_exporter": "python",
      "pygments_lexer": "ipython3",
      "version": "3.11.5"
    }
  },
  "nbformat": 4,
  "nbformat_minor": 0
}
